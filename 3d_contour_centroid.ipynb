{
 "cells": [
  {
   "cell_type": "code",
   "execution_count": null,
   "id": "4bc8fe50",
   "metadata": {},
   "outputs": [],
   "source": [
    "import sys\n",
    "print(sys.path)"
   ]
  },
  {
   "cell_type": "code",
   "execution_count": null,
   "id": "816d1278",
   "metadata": {},
   "outputs": [],
   "source": [
    "pip install Cython"
   ]
  },
  {
   "cell_type": "code",
   "execution_count": null,
   "id": "a67bbfda",
   "metadata": {
    "scrolled": true
   },
   "outputs": [],
   "source": [
    "pip install pclpy"
   ]
  },
  {
   "cell_type": "code",
   "execution_count": 1,
   "id": "580bc17b",
   "metadata": {},
   "outputs": [],
   "source": [
    "import open3d as o3d\n",
    "import cv2\n",
    "import numpy as np\n",
    "\n",
    "# Load the geometry file (PLY) with color information\n",
    "point_cloud = o3d.io.read_point_cloud(\"C:/Users/islam/Desktop/+++neu+++/Boroskopbilder/SchaufelX_V3_Farbnetz.ply\")"
   ]
  },
  {
   "cell_type": "code",
   "execution_count": 2,
   "id": "ea9e2ed4",
   "metadata": {},
   "outputs": [],
   "source": [
    "# Visualize the geometry\n",
    "o3d.visualization.draw_geometries([point_cloud])"
   ]
  },
  {
   "cell_type": "code",
   "execution_count": null,
   "id": "0ae4538e",
   "metadata": {},
   "outputs": [],
   "source": [
    "# Define the array of voxel coordinates\n",
    "voxels = np.array([[-11.66883755, -21.77524567, 215.68687439],\n",
    "  [-11.66729259, -21.79191971, 215.71546936]])\n",
    "\n",
    "# Calculate the distance between the first two elements (points)\n",
    "distance_1_2 = np.linalg.norm(voxels[0] - voxels[1])\n",
    "\n",
    "print(\"Distance between first two elements (points):\", distance_1_2)"
   ]
  },
  {
   "cell_type": "code",
   "execution_count": 4,
   "id": "02c97447",
   "metadata": {
    "scrolled": true
   },
   "outputs": [
    {
     "name": "stdout",
     "output_type": "stream",
     "text": [
      "[[-11.66883755 -21.77524567 215.68687439]\n",
      " [-11.66729259 -21.79191971 215.71546936]\n",
      " [-11.66682243 -21.72731972 215.68818665]\n",
      " ...\n",
      " [ -6.64744711  -9.505229   253.05174255]\n",
      " [ -6.78415251  -9.26166248 252.58708191]\n",
      " [ -6.78010273  -9.30448437 252.41690063]]\n",
      "[[0.40784314 0.40784314 0.40784314]\n",
      " [0.41568627 0.41568627 0.41568627]\n",
      " [0.40784314 0.40784314 0.40784314]\n",
      " ...\n",
      " [0.63529412 0.63529412 0.63529412]\n",
      " [0.72156863 0.72156863 0.72156863]\n",
      " [0.63137255 0.63137255 0.63137255]]\n",
      "[[104 104 104]\n",
      " [106 106 106]\n",
      " [104 104 104]\n",
      " ...\n",
      " [162 162 162]\n",
      " [184 184 184]\n",
      " [161 161 161]]\n"
     ]
    }
   ],
   "source": [
    "# Convert the point cloud to a numpy array\n",
    "points = np.asarray(point_cloud.points)\n",
    "print(points)\n",
    "colors = np.asarray(point_cloud.colors)\n",
    "print(colors)\n",
    "# Convert normalized color values to the 8-bit scale\n",
    "colors_8bit = (colors * 255).astype(np.uint8)\n",
    "print(colors_8bit)"
   ]
  },
  {
   "cell_type": "code",
   "execution_count": 5,
   "id": "15217043",
   "metadata": {},
   "outputs": [
    {
     "name": "stdout",
     "output_type": "stream",
     "text": [
      "32644\n",
      "[[-11.55315876 -22.01726723 217.29718018]\n",
      " [-11.55278873 -21.95064926 212.87155151]\n",
      " [-11.54926872 -21.93388557 213.05404663]\n",
      " ...\n",
      " [ -6.64232826  -9.59300423 252.60229492]\n",
      " [ -6.54929638  -9.76791191 252.92773438]\n",
      " [ -6.78415251  -9.26166248 252.58708191]]\n"
     ]
    }
   ],
   "source": [
    "# You may need to adjust this threshold based on your data\n",
    "white_threshold = 175\n",
    "\n",
    "# Find indices of points with bright white markings\n",
    "white_markings_indices = np.where(np.all(colors_8bit >= white_threshold, axis=1))[0]\n",
    "\n",
    "print(len(white_markings_indices))\n",
    "# Extract points with bright white markings\n",
    "points_with_white_markings = points[white_markings_indices]\n",
    "print(points_with_white_markings)"
   ]
  },
  {
   "cell_type": "code",
   "execution_count": 6,
   "id": "f06d4fbb",
   "metadata": {},
   "outputs": [],
   "source": [
    "# Assign a distinct color to points with white markings (e.g., red)\n",
    "color_white_markings = [0,0,255]  # Red color\n",
    "colors_with_white_markings = np.full((len(points_with_white_markings), 3), color_white_markings)\n",
    "\n",
    "# Convert the array of new points and colors to an Open3D point cloud\n",
    "new_point_cloud = o3d.geometry.PointCloud()\n",
    "new_point_cloud.points = o3d.utility.Vector3dVector(points_with_white_markings)\n",
    "new_point_cloud.colors = o3d.utility.Vector3dVector(colors_with_white_markings)\n",
    "\n",
    "# # Visualize the original point cloud and the new points together\n",
    "o3d.visualization.draw_geometries([new_point_cloud])\n",
    "# # Convert the array of new points to an Open3D point cloud\n",
    "# new_point_cloud = o3d.geometry.PointCloud()\n",
    "# new_point_cloud.points = o3d.utility.Vector3dVector(points_with_white_markings)\n",
    "\n",
    "# # Visualize the original point cloud and the new points together\n",
    "# o3d.visualization.draw_geometries([point_cloud, new_point_cloud])"
   ]
  },
  {
   "cell_type": "code",
   "execution_count": null,
   "id": "f9516c18",
   "metadata": {},
   "outputs": [],
   "source": [
    "from sklearn.cluster import DBSCAN\n",
    "import numpy as np\n",
    "\n",
    "# Assuming 'points_with_white_markings' is your array of points\n",
    "\n",
    "# Initialize the DBSCAN clustering algorithm\n",
    "dbscan = DBSCAN(eps=0.12, min_samples=5)  # You may need to adjust 'eps' and 'min_samples'\n",
    "\n",
    "# Fit the DBSCAN algorithm to the points\n",
    "labels = dbscan.fit_predict(points_with_white_markings)\n",
    "\n",
    "# Get the unique cluster labels\n",
    "unique_labels = np.unique(labels)"
   ]
  },
  {
   "cell_type": "code",
   "execution_count": null,
   "id": "363d5b9a",
   "metadata": {},
   "outputs": [],
   "source": [
    "# Initialize a list to store the centroids of each cluster\n",
    "centroids = []\n",
    "\n",
    "# Iterate over each unique cluster label\n",
    "for label in unique_labels:\n",
    "    # Find the points belonging to the current cluster\n",
    "    cluster_points = points_with_white_markings[labels == label]\n",
    "    \n",
    "    # Calculate the centroid of the cluster\n",
    "    centroid = np.mean(cluster_points, axis=0)\n",
    "    \n",
    "    # Append the centroid to the list\n",
    "    centroids.append(centroid)\n",
    "\n",
    "# Convert the list of centroids to a numpy array\n",
    "centroids = np.array(centroids)\n",
    "\n",
    "# Convert values to normal floating-point notation\n",
    "values_normal = np.array([[f'{val:.6f}' for val in row] for row in centroids])\n",
    "print(values_normal)"
   ]
  },
  {
   "cell_type": "code",
   "execution_count": null,
   "id": "e504cbb0",
   "metadata": {},
   "outputs": [],
   "source": [
    "pip install pyquaternion"
   ]
  },
  {
   "cell_type": "code",
   "execution_count": null,
   "id": "15731244",
   "metadata": {},
   "outputs": [],
   "source": [
    "# Define the text_3d function\n",
    "def text_3d(text, pos, direction=None, degree=0.0, font='C:/Users/islam/Downloads/DejaVu Sans Mono for Powerline/DejaVu Sans Mono for Powerline.ttf', font_size=16):\n",
    "    \"\"\"\n",
    "    Generate a 3D text point cloud used for visualization.\n",
    "    :param text: content of the text\n",
    "    :param pos: 3D xyz position of the text upper left corner\n",
    "    :param direction: 3D normalized direction of where the text faces\n",
    "    :param degree: in plane rotation of text\n",
    "    :param font: Name of the font - change it according to your system\n",
    "    :param font_size: size of the font\n",
    "    :return: o3d.geoemtry.PointCloud object\n",
    "    \"\"\"\n",
    "    if direction is None:\n",
    "        direction = ( 1., 0., 0.)\n",
    "\n",
    "    from PIL import Image, ImageFont, ImageDraw\n",
    "    from pyquaternion import Quaternion\n",
    "\n",
    "    font_obj = ImageFont.truetype(font, font_size)\n",
    "    font_dim = font_obj.getsize(text)\n",
    "\n",
    "    img = Image.new('RGB', font_dim, color=(255, 255, 255))\n",
    "    draw = ImageDraw.Draw(img)\n",
    "    draw.text((0, 0), text, font=font_obj, fill=(0, 0, 0))\n",
    "    img = np.asarray(img)\n",
    "    img_mask = img[:, :, 0] < 128\n",
    "    indices = np.indices([*img.shape[0:2], 1])[:, img_mask, 0].reshape(3, -1).T\n",
    "\n",
    "    pcd = o3d.geometry.PointCloud()\n",
    "    pcd.colors = o3d.utility.Vector3dVector(img[img_mask, :].astype(float) / 255.0)\n",
    "    pcd.points = o3d.utility.Vector3dVector(indices / 100.0)\n",
    "\n",
    "    raxis = np.cross([0.0, 0.0, 1.0], direction)\n",
    "    if np.linalg.norm(raxis) < 1e-6:\n",
    "        raxis = (0.0, 0.0, 1.0)\n",
    "    trans = (Quaternion(axis=raxis, radians=np.arccos(direction[2])) *\n",
    "             Quaternion(axis=direction, degrees=degree)).transformation_matrix\n",
    "    trans[0:3, 3] = np.asarray(pos)\n",
    "    pcd.transform(trans)\n",
    "    return pcd"
   ]
  },
  {
   "cell_type": "code",
   "execution_count": 7,
   "id": "1cde9567",
   "metadata": {},
   "outputs": [
    {
     "ename": "NameError",
     "evalue": "name 'centroids' is not defined",
     "output_type": "error",
     "traceback": [
      "\u001b[1;31m---------------------------------------------------------------------------\u001b[0m",
      "\u001b[1;31mNameError\u001b[0m                                 Traceback (most recent call last)",
      "\u001b[1;32m~\\AppData\\Local\\Temp\\ipykernel_16836\\3664986652.py\u001b[0m in \u001b[0;36m<module>\u001b[1;34m\u001b[0m\n\u001b[0;32m      1\u001b[0m \u001b[1;31m# Convert the array of centroids to an Open3D point cloud\u001b[0m\u001b[1;33m\u001b[0m\u001b[1;33m\u001b[0m\u001b[1;33m\u001b[0m\u001b[0m\n\u001b[0;32m      2\u001b[0m \u001b[0mcentroids_point_cloud\u001b[0m \u001b[1;33m=\u001b[0m \u001b[0mo3d\u001b[0m\u001b[1;33m.\u001b[0m\u001b[0mgeometry\u001b[0m\u001b[1;33m.\u001b[0m\u001b[0mPointCloud\u001b[0m\u001b[1;33m(\u001b[0m\u001b[1;33m)\u001b[0m\u001b[1;33m\u001b[0m\u001b[1;33m\u001b[0m\u001b[0m\n\u001b[1;32m----> 3\u001b[1;33m \u001b[0mcentroids_point_cloud\u001b[0m\u001b[1;33m.\u001b[0m\u001b[0mpoints\u001b[0m \u001b[1;33m=\u001b[0m \u001b[0mo3d\u001b[0m\u001b[1;33m.\u001b[0m\u001b[0mutility\u001b[0m\u001b[1;33m.\u001b[0m\u001b[0mVector3dVector\u001b[0m\u001b[1;33m(\u001b[0m\u001b[0mcentroids\u001b[0m\u001b[1;33m)\u001b[0m\u001b[1;33m\u001b[0m\u001b[1;33m\u001b[0m\u001b[0m\n\u001b[0m\u001b[0;32m      4\u001b[0m \u001b[1;33m\u001b[0m\u001b[0m\n\u001b[0;32m      5\u001b[0m \u001b[1;31m# Define the voxel size for downsampling\u001b[0m\u001b[1;33m\u001b[0m\u001b[1;33m\u001b[0m\u001b[1;33m\u001b[0m\u001b[0m\n",
      "\u001b[1;31mNameError\u001b[0m: name 'centroids' is not defined"
     ]
    }
   ],
   "source": [
    "# Convert the array of centroids to an Open3D point cloud\n",
    "centroids_point_cloud = o3d.geometry.PointCloud()\n",
    "centroids_point_cloud.points = o3d.utility.Vector3dVector(centroids)\n",
    "\n",
    "# Define the voxel size for downsampling\n",
    "voxel_size = 0.2 #Ajust this value according to your downsampling requirements\n",
    "\n",
    "# Downsample the original point cloud\n",
    "downsampled_point_cloud = point_cloud.voxel_down_sample(voxel_size)\n",
    "\n",
    "# Downsample the centroid point cloud\n",
    "downsampled_centroids_point_cloud = centroids_point_cloud.voxel_down_sample(voxel_size)\n",
    "\n",
    "\n",
    "# Create Visualizer object\n",
    "vis = o3d.visualization.Visualizer()\n",
    "vis.create_window()\n",
    "\n",
    "# Initialize lists for colors\n",
    "centroid_colors = []\n",
    "\n",
    "# Generate random color for each centroid\n",
    "for _ in range(len(downsampled_centroids_point_cloud.points)):\n",
    "    color = np.random.rand(3)  # Generate random color for each centroid\n",
    "    centroid_colors.append(color)\n",
    "\n",
    "# Create PointCloud with custom colors\n",
    "custom_point_cloud = o3d.geometry.PointCloud()\n",
    "custom_point_cloud.points = o3d.utility.Vector3dVector(downsampled_centroids_point_cloud.points)\n",
    "custom_point_cloud.colors = o3d.utility.Vector3dVector(centroid_colors)\n",
    "\n",
    "# Add PointClouds to visualization\n",
    "vis.add_geometry(downsampled_point_cloud)\n",
    "vis.add_geometry(custom_point_cloud)\n",
    "\n",
    "# Add spheres around centroids\n",
    "for centroid, color in zip(downsampled_centroids_point_cloud.points, centroid_colors):\n",
    "    # Draw a sphere around each centroid\n",
    "    sphere = o3d.geometry.TriangleMesh.create_sphere(radius=0.5)\n",
    "    sphere.compute_vertex_normals()\n",
    "    sphere.paint_uniform_color(color)\n",
    "    sphere.translate(centroid)\n",
    "    vis.add_geometry(sphere)\n",
    "    \n",
    "# # Generate 3D text point cloud for centroid coordinates\n",
    "    label_text = f\"({centroid[0]:.2f}, {centroid[1]:.2f}, {centroid[2]:.2f})\"\n",
    "    text_cloud = text_3d(label_text, centroid + np.array([0.5, 0.5, 0.5]))\n",
    "\n",
    "    # Add text point cloud to visualization\n",
    "    vis.add_geometry(text_cloud)\n",
    "\n",
    "# Run the visualization\n",
    "vis.run()\n",
    "\n",
    "# centroid_colors = []\n",
    "# for _ in range(len(downsampled_centroids_point_cloud.points)):\n",
    "#     color = np.random.rand(3)  # Generate random color for each centroid\n",
    "#     centroid_colors.append(color)\n",
    "\n",
    "# # Create PointCloud with custom colors\n",
    "# custom_point_cloud = o3d.geometry.PointCloud()\n",
    "# custom_point_cloud.points = o3d.utility.Vector3dVector(downsampled_centroids_point_cloud.points)\n",
    "# custom_point_cloud.colors = o3d.utility.Vector3dVector(centroid_colors)\n",
    "\n",
    "# # Visualize point clouds\n",
    "# vis.add_geometry(downsampled_point_cloud)\n",
    "# vis.add_geometry(custom_point_cloud)\n",
    "# vis.run()\n",
    "\n",
    "# Visualize the total downsampled point cloud\n",
    "# o3d.visualization.draw_geometries([downsampled_point_cloud, downsampled_centroids_point_cloud])\n",
    "\n",
    "# # # Visualize the original point cloud and the centroids together\n",
    "# o3d.visualization.draw_geometries([point_cloud, centroids_point_cloud])\n"
   ]
  },
  {
   "cell_type": "code",
   "execution_count": null,
   "id": "0f57eccb",
   "metadata": {},
   "outputs": [],
   "source": []
  }
 ],
 "metadata": {
  "kernelspec": {
   "display_name": "Python 3 (ipykernel)",
   "language": "python",
   "name": "python3"
  },
  "language_info": {
   "codemirror_mode": {
    "name": "ipython",
    "version": 3
   },
   "file_extension": ".py",
   "mimetype": "text/x-python",
   "name": "python",
   "nbconvert_exporter": "python",
   "pygments_lexer": "ipython3",
   "version": "3.8.12"
  }
 },
 "nbformat": 4,
 "nbformat_minor": 5
}
